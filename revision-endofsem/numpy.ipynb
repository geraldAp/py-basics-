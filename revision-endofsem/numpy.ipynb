{
 "cells": [
  {
   "cell_type": "markdown",
   "metadata": {},
   "source": [
    "# Things to know about numpy "
   ]
  },
  {
   "cell_type": "code",
   "execution_count": 3,
   "metadata": {},
   "outputs": [],
   "source": [
    "import numpy as np"
   ]
  },
  {
   "cell_type": "markdown",
   "metadata": {},
   "source": [
    "## Create in numpy "
   ]
  },
  {
   "cell_type": "code",
   "execution_count": 61,
   "metadata": {},
   "outputs": [],
   "source": [
    "data = np.random.rand(3,3,2) ##  npRandom array with\n",
    "zeroes = np.zeros((2,2,2)) ## zero valued arrays \n",
    "full = np.full((2, 2, 2), 7) ## full valued arrays instead of zero it will be 7 or any number you specify\n",
    "ones = np.ones((2, 2, 2)) ## fills our arrays with one "
   ]
  },
  {
   "cell_type": "code",
   "execution_count": 62,
   "metadata": {},
   "outputs": [
    {
     "data": {
      "text/plain": [
       "array([[[0.37396371, 0.9195228 ],\n",
       "        [0.45446456, 0.8888557 ],\n",
       "        [0.63441433, 0.3843134 ]],\n",
       "\n",
       "       [[0.20123346, 0.08295576],\n",
       "        [0.06475015, 0.58865881],\n",
       "        [0.43990856, 0.30516933]],\n",
       "\n",
       "       [[0.80834694, 0.03596264],\n",
       "        [0.27744156, 0.98372367],\n",
       "        [0.29511487, 0.09584774]]])"
      ]
     },
     "execution_count": 62,
     "metadata": {},
     "output_type": "execute_result"
    }
   ],
   "source": [
    "data"
   ]
  },
  {
   "cell_type": "code",
   "execution_count": 28,
   "metadata": {},
   "outputs": [
    {
     "data": {
      "text/plain": [
       "array([[[7, 7],\n",
       "        [7, 7]],\n",
       "\n",
       "       [[7, 7],\n",
       "        [7, 7]]])"
      ]
     },
     "execution_count": 28,
     "metadata": {},
     "output_type": "execute_result"
    }
   ],
   "source": [
    "full"
   ]
  },
  {
   "cell_type": "code",
   "execution_count": 29,
   "metadata": {},
   "outputs": [
    {
     "data": {
      "text/plain": [
       "array([[[0., 0.],\n",
       "        [0., 0.]],\n",
       "\n",
       "       [[0., 0.],\n",
       "        [0., 0.]]])"
      ]
     },
     "execution_count": 29,
     "metadata": {},
     "output_type": "execute_result"
    }
   ],
   "source": [
    "zeroes"
   ]
  },
  {
   "cell_type": "code",
   "execution_count": 30,
   "metadata": {},
   "outputs": [],
   "source": [
    "# Converting a regular array / list to a numpy array  \n",
    "import numpy as np\n",
    "custom_array = [[2, 3],[ 5,3]]\n",
    "arr = np.array(custom_array)"
   ]
  },
  {
   "cell_type": "markdown",
   "metadata": {},
   "source": [
    "## Reading Array"
   ]
  },
  {
   "cell_type": "code",
   "execution_count": 31,
   "metadata": {},
   "outputs": [],
   "source": [
    "# Attribute \n",
    "shape = data.shape # the shape of the data\n",
    "size = data.size # the number of elements in the data\n",
    "type = data.dtype # the data type of the data"
   ]
  },
  {
   "cell_type": "code",
   "execution_count": 32,
   "metadata": {},
   "outputs": [
    {
     "data": {
      "text/plain": [
       "(3, 3, 2)"
      ]
     },
     "execution_count": 32,
     "metadata": {},
     "output_type": "execute_result"
    }
   ],
   "source": [
    "shape"
   ]
  },
  {
   "cell_type": "code",
   "execution_count": 33,
   "metadata": {},
   "outputs": [
    {
     "data": {
      "text/plain": [
       "18"
      ]
     },
     "execution_count": 33,
     "metadata": {},
     "output_type": "execute_result"
    }
   ],
   "source": [
    "size"
   ]
  },
  {
   "cell_type": "code",
   "execution_count": 34,
   "metadata": {},
   "outputs": [
    {
     "data": {
      "text/plain": [
       "dtype('float64')"
      ]
     },
     "execution_count": 34,
     "metadata": {},
     "output_type": "execute_result"
    }
   ],
   "source": [
    "type"
   ]
  },
  {
   "cell_type": "code",
   "execution_count": 37,
   "metadata": {},
   "outputs": [],
   "source": [
    "#slicing \n",
    "arr2 = data[0] #takes the first data \n",
    "slicer = data[0:2] #creates a copy of the first two elements\n",
    "reverse = data[-1]\n",
    "singleValue = data[0][0]\n",
    "\n"
   ]
  },
  {
   "cell_type": "code",
   "execution_count": 38,
   "metadata": {},
   "outputs": [
    {
     "data": {
      "text/plain": [
       "array([[[0.29558976, 0.55350193],\n",
       "        [0.80705861, 0.60893379],\n",
       "        [0.87821737, 0.08860468]],\n",
       "\n",
       "       [[0.93806142, 0.87380188],\n",
       "        [0.38483065, 0.02210072],\n",
       "        [0.61523528, 0.65189245]],\n",
       "\n",
       "       [[0.89831062, 0.57697108],\n",
       "        [0.71801226, 0.34482585],\n",
       "        [0.37539257, 0.85290402]]])"
      ]
     },
     "execution_count": 38,
     "metadata": {},
     "output_type": "execute_result"
    }
   ],
   "source": [
    "data"
   ]
  },
  {
   "cell_type": "code",
   "execution_count": 36,
   "metadata": {},
   "outputs": [
    {
     "data": {
      "text/plain": [
       "array([[0.29558976, 0.55350193],\n",
       "       [0.80705861, 0.60893379],\n",
       "       [0.87821737, 0.08860468]])"
      ]
     },
     "execution_count": 36,
     "metadata": {},
     "output_type": "execute_result"
    }
   ],
   "source": [
    "arr2"
   ]
  },
  {
   "cell_type": "code",
   "execution_count": 39,
   "metadata": {},
   "outputs": [
    {
     "data": {
      "text/plain": [
       "array([[[0.29558976, 0.55350193],\n",
       "        [0.80705861, 0.60893379],\n",
       "        [0.87821737, 0.08860468]],\n",
       "\n",
       "       [[0.93806142, 0.87380188],\n",
       "        [0.38483065, 0.02210072],\n",
       "        [0.61523528, 0.65189245]]])"
      ]
     },
     "execution_count": 39,
     "metadata": {},
     "output_type": "execute_result"
    }
   ],
   "source": [
    "slicer"
   ]
  },
  {
   "cell_type": "code",
   "execution_count": 40,
   "metadata": {},
   "outputs": [
    {
     "data": {
      "text/plain": [
       "array([[0.89831062, 0.57697108],\n",
       "       [0.71801226, 0.34482585],\n",
       "       [0.37539257, 0.85290402]])"
      ]
     },
     "execution_count": 40,
     "metadata": {},
     "output_type": "execute_result"
    }
   ],
   "source": [
    "reverse"
   ]
  },
  {
   "cell_type": "code",
   "execution_count": 41,
   "metadata": {},
   "outputs": [
    {
     "data": {
      "text/plain": [
       "array([0.29558976, 0.55350193])"
      ]
     },
     "execution_count": 41,
     "metadata": {},
     "output_type": "execute_result"
    }
   ],
   "source": [
    "singleValue"
   ]
  },
  {
   "cell_type": "markdown",
   "metadata": {},
   "source": [
    "## Updating "
   ]
  },
  {
   "cell_type": "code",
   "execution_count": 42,
   "metadata": {},
   "outputs": [],
   "source": [
    "list1 = np.random.rand(10)\n",
    "list2 = np.random.rand(10)"
   ]
  },
  {
   "cell_type": "code",
   "execution_count": 43,
   "metadata": {},
   "outputs": [
    {
     "data": {
      "text/plain": [
       "array([0.73748883, 0.38423549, 0.05404358, 0.64864031, 0.11140669,\n",
       "       0.54246164, 0.93034948, 0.90135959, 0.80104821, 0.08397375])"
      ]
     },
     "execution_count": 43,
     "metadata": {},
     "output_type": "execute_result"
    }
   ],
   "source": [
    "list2"
   ]
  },
  {
   "cell_type": "code",
   "execution_count": 47,
   "metadata": {},
   "outputs": [
    {
     "data": {
      "text/plain": [
       "array([0.38138689, 0.4060113 , 0.66664821, 0.48348556, 0.41984489,\n",
       "       0.76556014, 0.2308085 , 0.04297293, 0.36485646, 0.89918679])"
      ]
     },
     "execution_count": 47,
     "metadata": {},
     "output_type": "execute_result"
    }
   ],
   "source": [
    "list1"
   ]
  },
  {
   "cell_type": "code",
   "execution_count": 45,
   "metadata": {},
   "outputs": [],
   "source": [
    "add = np.add(list2, list1)\n",
    "sub = np.subtract(list2, list1)\n",
    "div = np.divide(list1, list2)\n",
    "mult = np.multiply(list1, list2)\n",
    "dot = np.dot(list1, list2)"
   ]
  },
  {
   "cell_type": "code",
   "execution_count": 46,
   "metadata": {},
   "outputs": [
    {
     "data": {
      "text/plain": [
       "array([1.11887572, 0.79024679, 0.72069179, 1.13212587, 0.53125158,\n",
       "       1.30802179, 1.16115798, 0.94433253, 1.16590467, 0.98316054])"
      ]
     },
     "execution_count": 46,
     "metadata": {},
     "output_type": "execute_result"
    }
   ],
   "source": [
    "add"
   ]
  },
  {
   "cell_type": "code",
   "execution_count": 48,
   "metadata": {},
   "outputs": [
    {
     "data": {
      "text/plain": [
       "array([ 0.35610194, -0.0217758 , -0.61260463,  0.16515475, -0.3084382 ,\n",
       "       -0.2230985 ,  0.69954098,  0.85838666,  0.43619174, -0.81521304])"
      ]
     },
     "execution_count": 48,
     "metadata": {},
     "output_type": "execute_result"
    }
   ],
   "source": [
    "sub"
   ]
  },
  {
   "cell_type": "code",
   "execution_count": 49,
   "metadata": {},
   "outputs": [
    {
     "data": {
      "text/plain": [
       "array([ 0.5171426 ,  1.05667306, 12.33538145,  0.74538316,  3.76857864,\n",
       "        1.41127055,  0.24808795,  0.04767568,  0.45547379, 10.70795082])"
      ]
     },
     "execution_count": 49,
     "metadata": {},
     "output_type": "execute_result"
    }
   ],
   "source": [
    "div"
   ]
  },
  {
   "cell_type": "code",
   "execution_count": 50,
   "metadata": {},
   "outputs": [
    {
     "data": {
      "text/plain": [
       "array([0.28126857, 0.15600395, 0.03602806, 0.31360822, 0.04677353,\n",
       "       0.41528701, 0.21473257, 0.03873407, 0.29226762, 0.07550809])"
      ]
     },
     "execution_count": 50,
     "metadata": {},
     "output_type": "execute_result"
    }
   ],
   "source": [
    "mult"
   ]
  },
  {
   "cell_type": "code",
   "execution_count": 51,
   "metadata": {},
   "outputs": [
    {
     "data": {
      "text/plain": [
       "1.870211688519128"
      ]
     },
     "execution_count": 51,
     "metadata": {},
     "output_type": "execute_result"
    }
   ],
   "source": [
    "dot"
   ]
  },
  {
   "cell_type": "code",
   "execution_count": 53,
   "metadata": {},
   "outputs": [],
   "source": [
    "# Stat func \n",
    "sqrt = np.sqrt(25)  \n",
    "ab = np.abs(-2) ## get the absolute value so -2 becomes 2\n",
    "power = np.power(2, 3)\n",
    "log = np.log(100)\n",
    "exp  = np.exp([2,3])\n",
    "mins = np.min(list1)\n",
    "maxs = np.max(list1)"
   ]
  },
  {
   "cell_type": "code",
   "execution_count": 54,
   "metadata": {},
   "outputs": [
    {
     "data": {
      "text/plain": [
       "5.0"
      ]
     },
     "execution_count": 54,
     "metadata": {},
     "output_type": "execute_result"
    }
   ],
   "source": [
    "sqrt"
   ]
  },
  {
   "cell_type": "code",
   "execution_count": 55,
   "metadata": {},
   "outputs": [
    {
     "data": {
      "text/plain": [
       "2"
      ]
     },
     "execution_count": 55,
     "metadata": {},
     "output_type": "execute_result"
    }
   ],
   "source": [
    "ab"
   ]
  },
  {
   "cell_type": "code",
   "execution_count": 65,
   "metadata": {},
   "outputs": [
    {
     "data": {
      "text/plain": [
       "array([[[25.        ,  0.9195228 ],\n",
       "        [ 0.45446456,  0.8888557 ],\n",
       "        [ 0.63441433,  0.3843134 ]],\n",
       "\n",
       "       [[ 0.20123346,  0.08295576],\n",
       "        [ 0.06475015,  0.58865881],\n",
       "        [ 0.43990856,  0.30516933]],\n",
       "\n",
       "       [[ 0.80834694,  0.03596264],\n",
       "        [ 0.27744156,  0.98372367],\n",
       "        [ 0.29511487,  0.09584774]]])"
      ]
     },
     "execution_count": 65,
     "metadata": {},
     "output_type": "execute_result"
    }
   ],
   "source": [
    "data"
   ]
  },
  {
   "cell_type": "code",
   "execution_count": 67,
   "metadata": {},
   "outputs": [],
   "source": [
    "data[0][0][0] = 700"
   ]
  },
  {
   "cell_type": "code",
   "execution_count": 68,
   "metadata": {},
   "outputs": [
    {
     "data": {
      "text/plain": [
       "array([[[7.00000000e+02, 9.19522799e-01],\n",
       "        [4.54464559e-01, 8.88855701e-01],\n",
       "        [6.34414332e-01, 3.84313403e-01]],\n",
       "\n",
       "       [[2.01233463e-01, 8.29557609e-02],\n",
       "        [6.47501528e-02, 5.88658805e-01],\n",
       "        [4.39908562e-01, 3.05169335e-01]],\n",
       "\n",
       "       [[8.08346941e-01, 3.59626351e-02],\n",
       "        [2.77441564e-01, 9.83723673e-01],\n",
       "        [2.95114872e-01, 9.58477369e-02]]])"
      ]
     },
     "execution_count": 68,
     "metadata": {},
     "output_type": "execute_result"
    }
   ],
   "source": [
    "data"
   ]
  },
  {
   "cell_type": "code",
   "execution_count": 69,
   "metadata": {},
   "outputs": [],
   "source": [
    "data.sort()"
   ]
  },
  {
   "cell_type": "code",
   "execution_count": 70,
   "metadata": {},
   "outputs": [
    {
     "data": {
      "text/plain": [
       "array([[[9.19522799e-01, 7.00000000e+02],\n",
       "        [4.54464559e-01, 8.88855701e-01],\n",
       "        [3.84313403e-01, 6.34414332e-01]],\n",
       "\n",
       "       [[8.29557609e-02, 2.01233463e-01],\n",
       "        [6.47501528e-02, 5.88658805e-01],\n",
       "        [3.05169335e-01, 4.39908562e-01]],\n",
       "\n",
       "       [[3.59626351e-02, 8.08346941e-01],\n",
       "        [2.77441564e-01, 9.83723673e-01],\n",
       "        [9.58477369e-02, 2.95114872e-01]]])"
      ]
     },
     "execution_count": 70,
     "metadata": {},
     "output_type": "execute_result"
    }
   ],
   "source": [
    "data"
   ]
  },
  {
   "cell_type": "code",
   "execution_count": 71,
   "metadata": {},
   "outputs": [
    {
     "ename": "AttributeError",
     "evalue": "'numpy.ndarray' object has no attribute 'np'",
     "output_type": "error",
     "traceback": [
      "\u001b[0;31m---------------------------------------------------------------------------\u001b[0m",
      "\u001b[0;31mAttributeError\u001b[0m                            Traceback (most recent call last)",
      "Cell \u001b[0;32mIn[71], line 1\u001b[0m\n\u001b[0;32m----> 1\u001b[0m \u001b[43mdata\u001b[49m\u001b[38;5;241;43m.\u001b[39;49m\u001b[43mnp\u001b[49m\u001b[38;5;241m.\u001b[39msort()\n",
      "\u001b[0;31mAttributeError\u001b[0m: 'numpy.ndarray' object has no attribute 'np'"
     ]
    }
   ],
   "source": [
    "data.np.sort()"
   ]
  },
  {
   "cell_type": "code",
   "execution_count": 74,
   "metadata": {},
   "outputs": [
    {
     "data": {
      "text/plain": [
       "array([[[9.19522799e-01, 7.00000000e+02],\n",
       "        [4.54464559e-01, 8.88855701e-01],\n",
       "        [3.84313403e-01, 6.34414332e-01]],\n",
       "\n",
       "       [[8.29557609e-02, 2.01233463e-01],\n",
       "        [6.47501528e-02, 5.88658805e-01],\n",
       "        [3.05169335e-01, 4.39908562e-01]],\n",
       "\n",
       "       [[3.59626351e-02, 8.08346941e-01],\n",
       "        [2.77441564e-01, 9.83723673e-01],\n",
       "        [9.58477369e-02, 2.95114872e-01]]])"
      ]
     },
     "execution_count": 74,
     "metadata": {},
     "output_type": "execute_result"
    }
   ],
   "source": [
    "np.sort(data)"
   ]
  },
  {
   "cell_type": "code",
   "execution_count": 76,
   "metadata": {},
   "outputs": [
    {
     "name": "stdout",
     "output_type": "stream",
     "text": [
      "(3, 3, 2)\n"
     ]
    }
   ],
   "source": [
    "print(data.shape)"
   ]
  },
  {
   "cell_type": "code",
   "execution_count": 78,
   "metadata": {},
   "outputs": [],
   "source": [
    "#reshaping\n",
    "data = data.reshape((2,3,-1)) #the minus means you don't care about the last shape so it can be any depending on it's calculation "
   ]
  },
  {
   "cell_type": "code",
   "execution_count": 79,
   "metadata": {},
   "outputs": [
    {
     "data": {
      "text/plain": [
       "array([[[9.19522799e-01, 7.00000000e+02, 4.54464559e-01],\n",
       "        [8.88855701e-01, 3.84313403e-01, 6.34414332e-01],\n",
       "        [8.29557609e-02, 2.01233463e-01, 6.47501528e-02]],\n",
       "\n",
       "       [[5.88658805e-01, 3.05169335e-01, 4.39908562e-01],\n",
       "        [3.59626351e-02, 8.08346941e-01, 2.77441564e-01],\n",
       "        [9.83723673e-01, 9.58477369e-02, 2.95114872e-01]]])"
      ]
     },
     "execution_count": 79,
     "metadata": {},
     "output_type": "execute_result"
    }
   ],
   "source": [
    "data"
   ]
  },
  {
   "cell_type": "code",
   "execution_count": 80,
   "metadata": {},
   "outputs": [
    {
     "name": "stdout",
     "output_type": "stream",
     "text": [
      "(2, 3, 3)\n"
     ]
    }
   ],
   "source": [
    "print(data.shape)"
   ]
  },
  {
   "cell_type": "code",
   "execution_count": 82,
   "metadata": {},
   "outputs": [
    {
     "name": "stdout",
     "output_type": "stream",
     "text": [
      "[0. 0. 0. 0. 0. 0. 0. 0. 0.]\n",
      "[0. 0. 0. 0. 0. 0. 0. 0. 0. 2. 3. 4.]\n"
     ]
    }
   ],
   "source": [
    "zeroes2 = np.zeros((9)) # 9 values of 0 in the list/array\n",
    "print(zeroes2)\n",
    "zeroes2 = np.append(zeroes2, [2,3,4]) \n",
    "print(zeroes2)"
   ]
  },
  {
   "cell_type": "code",
   "execution_count": 84,
   "metadata": {},
   "outputs": [
    {
     "data": {
      "text/plain": [
       "array([0., 1., 0., 0., 0., 0., 0., 0., 0.])"
      ]
     },
     "execution_count": 84,
     "metadata": {},
     "output_type": "execute_result"
    }
   ],
   "source": [
    "# Inserting a value at a specified point \n",
    "import numpy as np\n",
    "zeroes2 = np.insert(zeroes, 1, 1)\n",
    "zeroes2"
   ]
  },
  {
   "cell_type": "markdown",
   "metadata": {},
   "source": [
    "## Data"
   ]
  },
  {
   "cell_type": "code",
   "execution_count": 85,
   "metadata": {},
   "outputs": [
    {
     "data": {
      "text/plain": [
       "array([[[9.19522799e-01, 7.00000000e+02, 4.54464559e-01],\n",
       "        [8.88855701e-01, 3.84313403e-01, 6.34414332e-01],\n",
       "        [8.29557609e-02, 2.01233463e-01, 6.47501528e-02]],\n",
       "\n",
       "       [[5.88658805e-01, 3.05169335e-01, 4.39908562e-01],\n",
       "        [3.59626351e-02, 8.08346941e-01, 2.77441564e-01],\n",
       "        [9.83723673e-01, 9.58477369e-02, 2.95114872e-01]]])"
      ]
     },
     "execution_count": 85,
     "metadata": {},
     "output_type": "execute_result"
    }
   ],
   "source": [
    "data"
   ]
  },
  {
   "cell_type": "code",
   "execution_count": 86,
   "metadata": {},
   "outputs": [
    {
     "data": {
      "text/plain": [
       "array([[[0.8888557 , 0.3843134 , 0.63441433],\n",
       "        [0.08295576, 0.20123346, 0.06475015]],\n",
       "\n",
       "       [[0.03596264, 0.80834694, 0.27744156],\n",
       "        [0.98372367, 0.09584774, 0.29511487]]])"
      ]
     },
     "execution_count": 86,
     "metadata": {},
     "output_type": "execute_result"
    }
   ],
   "source": [
    "np.delete(data , 0, axis=1)"
   ]
  },
  {
   "cell_type": "code",
   "execution_count": null,
   "metadata": {},
   "outputs": [],
   "source": [
    "np.save('new array', data)"
   ]
  }
 ],
 "metadata": {
  "kernelspec": {
   "display_name": "Python 3",
   "language": "python",
   "name": "python3"
  },
  "language_info": {
   "codemirror_mode": {
    "name": "ipython",
    "version": 3
   },
   "file_extension": ".py",
   "mimetype": "text/x-python",
   "name": "python",
   "nbconvert_exporter": "python",
   "pygments_lexer": "ipython3",
   "version": "3.12.3"
  }
 },
 "nbformat": 4,
 "nbformat_minor": 2
}
