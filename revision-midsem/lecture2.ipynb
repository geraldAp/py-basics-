{
 "cells": [
  {
   "cell_type": "markdown",
   "metadata": {},
   "source": [
    "# LOOPS"
   ]
  },
  {
   "cell_type": "markdown",
   "metadata": {},
   "source": [
    "### while loop"
   ]
  },
  {
   "cell_type": "code",
   "execution_count": 4,
   "metadata": {},
   "outputs": [
    {
     "name": "stdout",
     "output_type": "stream",
     "text": [
      "still mid and less\n",
      "79\n",
      "still mid and less\n",
      "59\n",
      "still mid and less\n",
      "39\n",
      "still mid and less\n",
      "19\n"
     ]
    }
   ],
   "source": [
    "a = 99 \n",
    "\n",
    "while 20 < a:\n",
    "    print('still mid and less')\n",
    "    a = a - 20\n",
    "    print(a)"
   ]
  },
  {
   "cell_type": "code",
   "execution_count": 5,
   "metadata": {},
   "outputs": [
    {
     "name": "stdout",
     "output_type": "stream",
     "text": [
      "x is  1\n",
      "x is  2\n",
      "x is  3\n",
      "x is  4\n",
      "x is  5\n",
      "x is  6\n",
      "x is  7\n",
      "x is no longer < 8\n"
     ]
    }
   ],
   "source": [
    "x = 1 \n",
    "while x < 8:\n",
    "    print(\"x is \",x)\n",
    "    x += 1\n",
    "else:\n",
    "    print(\"x is no longer < 8\")"
   ]
  },
  {
   "cell_type": "code",
   "execution_count": 8,
   "metadata": {},
   "outputs": [
    {
     "name": "stdout",
     "output_type": "stream",
     "text": [
      "The Farenheit equivalence of 11 degree Celsius is 51.8 \n",
      "The Farenheit equivalence of 16 degree Celsius is 60.8 \n",
      "The Farenheit equivalence of 21 degree Celsius is 69.8 \n",
      "The Farenheit equivalence of 26 degree Celsius is 78.8 \n",
      "The Farenheit equivalence of 31 degree Celsius is 87.8 \n",
      "The Farenheit equivalence of 36 degree Celsius is 96.8 \n",
      "The Farenheit equivalence of 41 degree Celsius is 105.8 \n",
      "The Farenheit equivalence of 46 degree Celsius is 114.8 \n",
      "The Farenheit equivalence of 51 degree Celsius is 123.8 \n",
      "The Farenheit equivalence of 56 degree Celsius is 132.8 \n",
      "The Farenheit equivalence of 61 degree Celsius is 141.8 \n",
      "The Farenheit equivalence of 66 degree Celsius is 150.8 \n"
     ]
    }
   ],
   "source": [
    "C = 11\n",
    "\n",
    "while C < 70 :\n",
    "    c = C\n",
    "    F = (9*C/5) + 32\n",
    "    print(f'The Farenheit equivalence of {c} degree Celsius is {F} ')\n",
    "    C += 5"
   ]
  },
  {
   "cell_type": "code",
   "execution_count": 14,
   "metadata": {},
   "outputs": [
    {
     "name": "stdout",
     "output_type": "stream",
     "text": [
      "2 0\n",
      "3 0\n",
      "4 1\n",
      "5 0\n",
      "6 2\n",
      "7 0\n",
      "8 2\n",
      "9 1\n"
     ]
    }
   ],
   "source": [
    "value = int(input('input a value from  8 - 20'))\n",
    "n = 2\n",
    "while n < value :\n",
    "    m = 2 \n",
    "    count = 0\n",
    "    while m <= n//2 :\n",
    "        if n%m == 0:\n",
    "             count+=1\n",
    "        m+=1\n",
    "    print(n , count) if count==0 else print(n,count)\n",
    "    n+=1             \n"
   ]
  },
  {
   "cell_type": "code",
   "execution_count": 13,
   "metadata": {},
   "outputs": [
    {
     "data": {
      "text/plain": [
       "3"
      ]
     },
     "execution_count": 13,
     "metadata": {},
     "output_type": "execute_result"
    }
   ],
   "source": []
  },
  {
   "cell_type": "markdown",
   "metadata": {},
   "source": [
    "## For loop\n"
   ]
  },
  {
   "cell_type": "code",
   "execution_count": 18,
   "metadata": {},
   "outputs": [
    {
     "name": "stdout",
     "output_type": "stream",
     "text": [
      "P\n",
      "Y\n",
      "T\n",
      "H\n",
      "O\n",
      "N\n"
     ]
    }
   ],
   "source": [
    "# Example with a string\n",
    "Language = \"PYTHON PROGRAMMING\"\n",
    "\n",
    "for l in Language[:6]: \n",
    "    print(l)"
   ]
  },
  {
   "cell_type": "code",
   "execution_count": 19,
   "metadata": {},
   "outputs": [
    {
     "name": "stdout",
     "output_type": "stream",
     "text": [
      "Dog\n",
      "Goat\n",
      "Cat\n",
      "Fish\n"
     ]
    }
   ],
   "source": [
    "# Example with list of strings\n",
    "Animals = [\"Dog\",\"Goat\",\"Cat\",\"Fish\"]\n",
    "for a in Animals:\n",
    "    print(a)"
   ]
  },
  {
   "cell_type": "code",
   "execution_count": 21,
   "metadata": {},
   "outputs": [
    {
     "name": "stdout",
     "output_type": "stream",
     "text": [
      "1\n",
      "3\n",
      "0\n",
      "1\n",
      "2\n",
      "3\n",
      "4\n"
     ]
    }
   ],
   "source": [
    "# Using for loop with ranges\n",
    "for x in range(1,5,2):\n",
    "    print(x)\n",
    "\n",
    "\n",
    "for x in range( 5 ):\n",
    "    print( x )\n"
   ]
  },
  {
   "cell_type": "code",
   "execution_count": 24,
   "metadata": {},
   "outputs": [
    {
     "name": "stdout",
     "output_type": "stream",
     "text": [
      "0 1\n",
      "1 2\n",
      "2 Yes\n",
      "3 5\n",
      "4 OneQuantum\n",
      "5 PY4CA\n",
      "6 Ghana\n",
      "7 57\n",
      "8 MeteoData\n"
     ]
    }
   ],
   "source": [
    "sequence = [1,2,'Yes',5,'OneQuantum','PY4CA','Ghana','57','MeteoData']\n",
    "\n",
    "   #index, item\n",
    "for index,seq in enumerate(sequence):\n",
    "    print(index, seq)"
   ]
  },
  {
   "cell_type": "code",
   "execution_count": 25,
   "metadata": {},
   "outputs": [
    {
     "name": "stdout",
     "output_type": "stream",
     "text": [
      "1 * 5 = 5\n",
      "1 * 3 = 3\n",
      "2 * 5 = 10\n",
      "2 * 3 = 6\n",
      "3 * 5 = 15\n",
      "3 * 3 = 9\n",
      "4 * 5 = 20\n",
      "4 * 3 = 12\n",
      "5 * 5 = 25\n",
      "5 * 3 = 15\n",
      "6 * 5 = 30\n",
      "6 * 3 = 18\n",
      "7 * 5 = 35\n",
      "7 * 3 = 21\n",
      "8 * 5 = 40\n",
      "8 * 3 = 24\n",
      "9 * 5 = 45\n",
      "9 * 3 = 27\n",
      "10 * 5 = 50\n",
      "10 * 3 = 30\n"
     ]
    }
   ],
   "source": [
    "# Example\n",
    "\n",
    "A = [1,2,3,4,5,6,7,8,9,10]\n",
    "B = [5, 3]\n",
    "for a in A:\n",
    "    for b in B:\n",
    "        y= a * b\n",
    "        print(a,'*',b,'=',y)"
   ]
  },
  {
   "cell_type": "code",
   "execution_count": 29,
   "metadata": {},
   "outputs": [
    {
     "name": "stdout",
     "output_type": "stream",
     "text": [
      "range(0, 1000)\n",
      "[0]\n"
     ]
    }
   ],
   "source": [
    "import numpy as np \n",
    "\n",
    "m = 1 # mass\n",
    "f = 1 # force\n",
    "t_final = 10 # final time\n",
    "dt = 0.01 # time step\n",
    "\n",
    "# Initial conditions\n",
    "v0 = 0 # initial velocity\n",
    "x0 = 0 # initial position\n",
    "\n",
    "# Lists to store the results\n",
    "t_list = [0]\n",
    "v_list = [v0]\n",
    "x_list = [x0]\n",
    "\n",
    "for i in range(int(t_final/dt)):\n",
    "    # update velocity\n",
    "    v = v_list[-1] + f/m*dt\n",
    "    v_list.append(v)\n",
    "    \n",
    "    # update position\n",
    "    x = x_list[-1] + v_list[-1]*dt\n",
    "    x_list.append(x)\n",
    "    \n",
    "    # update time\n",
    "    t = (i+1)*dt\n",
    "    t_list.append(t)\n",
    "    \n",
    "    print('t = {:.2f}s; x = {:.3f}m; v(t) = {:.2f}m/s'.format(t, x, v))\n",
    "\n",
    "print(t_list)"
   ]
  },
  {
   "cell_type": "code",
   "execution_count": 30,
   "metadata": {},
   "outputs": [
    {
     "data": {
      "text/plain": [
       "range(0, 1000)"
      ]
     },
     "execution_count": 30,
     "metadata": {},
     "output_type": "execute_result"
    }
   ],
   "source": [
    "range(1000)"
   ]
  }
 ],
 "metadata": {
  "kernelspec": {
   "display_name": "Python 3",
   "language": "python",
   "name": "python3"
  },
  "language_info": {
   "codemirror_mode": {
    "name": "ipython",
    "version": 3
   },
   "file_extension": ".py",
   "mimetype": "text/x-python",
   "name": "python",
   "nbconvert_exporter": "python",
   "pygments_lexer": "ipython3",
   "version": "3.0.0"
  }
 },
 "nbformat": 4,
 "nbformat_minor": 2
}
